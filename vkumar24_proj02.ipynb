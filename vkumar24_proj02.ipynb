{
 "cells": [
  {
   "cell_type": "markdown",
   "metadata": {
    "colab_type": "text",
    "id": "X-KSB2zRrwQO"
   },
   "source": [
    "```python\n",
    "####################################################################################################\n",
    "##### NC State University | Spring 2020\n",
    "##### Course  : ECE-763 Computer Vision \n",
    "##### PROJECT #2 (Haar features, AdaBoost Algorithm, Viola-Jones Face Detection)\n",
    "#####...............................................................................................\n",
    "##### Author  : Vinay Kumar\n",
    "##### UnityID : vkumar24@ncsu.edu\n",
    "#####...............................................................................................\n",
    "##### This is a work of © vkumar24@ncsu.edu\n",
    "####################################################################################################\n",
    "```"
   ]
  },
  {
   "cell_type": "code",
   "execution_count": 847,
   "metadata": {
    "colab": {
     "base_uri": "https://localhost:8080/",
     "height": 306
    },
    "colab_type": "code",
    "id": "V7XMk8YCp7jQ",
    "outputId": "b6e12793-73fa-4ab0-d944-e673fc34e631"
   },
   "outputs": [
    {
     "name": "stdout",
     "output_type": "stream",
     "text": [
      "/bin/sh: nvidia-smi: command not found\n"
     ]
    }
   ],
   "source": [
    "!nvidia-smi"
   ]
  },
  {
   "cell_type": "markdown",
   "metadata": {
    "colab_type": "text",
    "id": "Yon5sAU-tZqC"
   },
   "source": [
    "## ```import Necessary Libraries```"
   ]
  },
  {
   "cell_type": "code",
   "execution_count": 848,
   "metadata": {
    "colab": {},
    "colab_type": "code",
    "id": "o7EacA1Pp6MT"
   },
   "outputs": [],
   "source": [
    "## |> include_in_final_source <|\n",
    "##\n",
    "\n",
    "import glob\n",
    "import os\n",
    "import pprint\n",
    "import time\n",
    "from itertools import islice\n",
    "\n",
    "import numpy as np\n",
    "import matplotlib.pyplot as plt\n",
    "import sklearn\n",
    "from skimage.feature import haar_like_feature_coord\n",
    "from skimage.feature import draw_haar_like_feature\n",
    "from skimage import io\n",
    "import skimage\n",
    "import cv2\n",
    "from PIL import Image\n",
    "\n",
    "%matplotlib inline\n",
    "import matplotlib\n",
    "import matplotlib.pyplot as plt\n",
    "from matplotlib import image\n",
    "from matplotlib import cm\n",
    "import matplotlib.gridspec as gridspec\n",
    "from mpl_toolkits.axes_grid1 import make_axes_locatable\n",
    "\n",
    "import seaborn as sn"
   ]
  },
  {
   "cell_type": "markdown",
   "metadata": {
    "colab_type": "text",
    "id": "Lh042emiW3-y"
   },
   "source": [
    "## ```Final Source Code```"
   ]
  },
  {
   "cell_type": "code",
   "execution_count": 849,
   "metadata": {
    "colab": {},
    "colab_type": "code",
    "id": "L7i87nYcXLGN"
   },
   "outputs": [],
   "source": [
    "## |> include_in_final_source <|\n",
    "## \n",
    "## 👍 1. Create Integral Image\n",
    "## 👍 2. Find the haar features\n",
    "##      👍 1. Create discriptions for all the different types of haar-like-features\n",
    "##      👍 2. Write routine to find the features for each image for each feature-type\n",
    "##\n",
    "## 👍 3. Initialize weights for each feature\n",
    "## 👍 4. Find the threshold for each feature\n",
    "## 👍 5. Normalize the weights before each round-t\n",
    "## 👍 6. Find the error_h for each feature\n",
    "## 👍 7. Select the best haar_feature with least error_h for t-th round of AdaBoost"
   ]
  },
  {
   "cell_type": "code",
   "execution_count": 850,
   "metadata": {
    "colab": {},
    "colab_type": "code",
    "id": "bxsS2t1JccUn"
   },
   "outputs": [],
   "source": [
    "## |> include_in_final_source <|\n",
    "##\n",
    "## join the pos and neg data into just one \n",
    "# data = {\"id0\": {\"label\":1,\n",
    "#                 \"img\": np.array(),\n",
    "#                 \"ii_img\": np.array(),\n",
    "#                 },\n",
    "#         \"id1\": {\"label\":1,\n",
    "#                 \"img\": np.array(),\n",
    "#                 \"ii_img\": np.array(),\n",
    "#                 },\n",
    "#         ...\n",
    "#         ...\n",
    "#         }\n",
    "\n",
    "def get_data(path, ctype, extension=\"jpg\", shape=(350,350), resolution=(20,20), as_gray=True, verbose=True):\n",
    "    \"\"\"Helper function to create consumable data from the set.\n",
    "    : path       -> path of the folder where images are present\n",
    "    : ctype      -> the type of the class the data belongs to (pos / neg)\n",
    "    : extension  -> extension of the images (.jpg, .png)\n",
    "    : shape      -> cropping shape of the initial image to capture the face only\n",
    "    : resolution -> final resolution of the images like (40x40, 20x20, 60x60) \n",
    "    : as_gray    -> whether to convert to grayscale or not\n",
    "    : verbose ->\n",
    "    \"\"\"\n",
    "    data = {}\n",
    "    idx = 0\n",
    "\n",
    "    for fname in glob.glob(f\"{path}*.{extension}\"):\n",
    "        x_lb = shape[0]\n",
    "        y_lb = shape[1]\n",
    "        img = io.imread(fname, as_gray=as_gray)\n",
    "        if img.shape[0]>=x_lb and img.shape[1]>=y_lb:\n",
    "            # add the file names\n",
    "            _id_ = f\"{ctype}_{idx}\"\n",
    "            idx += 1\n",
    "            data[_id_] = {\"fname\": fname}\n",
    "            \n",
    "            xin = np.int((img.shape[0]-x_lb)/2)\n",
    "            xout = np.int((img.shape[0]+x_lb)/2)\n",
    "            yin = np.int((img.shape[1]-y_lb)/2)\n",
    "            yout = np.int((img.shape[1]+y_lb)/2)\n",
    "            res = cv2.resize(img[xin:xout, yin:yout], dsize=resolution, interpolation=cv2.INTER_CUBIC)\n",
    "            # res = skimage.transform.resize(img, resolution, anti_aliasing=True)\n",
    "            data[_id_][\"img\"] = res\n",
    "\n",
    "            ## add the labels\n",
    "            if ctype == \"pos\":\n",
    "                data[_id_][\"label\"] = 1\n",
    "            elif ctype == \"neg\":\n",
    "                data[_id_][\"label\"] = 0\n",
    "\n",
    "            ## ⚠️can create the integral_image right here too!!\n",
    "            ## ⚠️\n",
    "            ##\n",
    "    if verbose: print(f\"num_data => {len(data.keys())} :: img_shape = {data[_id_]['img'].shape}\")\n",
    "    \n",
    "    return data"
   ]
  },
  {
   "cell_type": "code",
   "execution_count": 851,
   "metadata": {
    "colab": {},
    "colab_type": "code",
    "id": "x9KW88ZIXa79"
   },
   "outputs": [],
   "source": [
    "## |> include_in_final_source <|\n",
    "##\n",
    "## Create Integral Image\n",
    "\n",
    "def create_integral_image(img, do_plot=False):\n",
    "    \"\"\"Create integral_image:\n",
    "    : img -> Image\n",
    "    : do_plot -> Whether to plot the integral_image? or not?\n",
    "    : Returns::\n",
    "    : ii_img -> integral image\n",
    "    \"\"\"\n",
    "    t0 = time.time()\n",
    "    ii_img = np.zeros((img.shape[0], img.shape[1]))\n",
    "    for i in range(img.shape[0]):\n",
    "        for j in range(img.shape[1]):\n",
    "            ii_img[i, j] = np.sum(img[:i+1, :j+1])\n",
    "    # print(f\"took {time.time() - t0} seconds\")\n",
    "\n",
    "    ## padding the edges and corners with zeros (boundary conditions)\n",
    "    tmp = np.zeros((ii_img.shape[0]+2, ii_img.shape[1]+2))\n",
    "    tmp[1:-1, 1:-1] = ii_img\n",
    "    ii_img = tmp\n",
    "\n",
    "    if do_plot:\n",
    "        plt.figure()\n",
    "        plt.imshow(ii_img)\n",
    "\n",
    "    return ii_img\n",
    "\n"
   ]
  },
  {
   "cell_type": "code",
   "execution_count": 852,
   "metadata": {
    "colab": {},
    "colab_type": "code",
    "id": "h62A4CMZXa4j"
   },
   "outputs": [],
   "source": [
    "## |> include_in_final_source <|\n",
    "##\n",
    "\n",
    "def get_coordinates(coordinates):\n",
    "    \"\"\"\n",
    "    : coordinates ->\n",
    "    \"\"\"\n",
    "\n",
    "    # print(\"\\n:::\", coordinates)\n",
    "    coord = coordinates.copy()\n",
    "    for k in range(len(coord)):\n",
    "        if coord[k][0] == coord[k][1]:\n",
    "            coord[k].pop(0)\n",
    "\n",
    "    if coord[0] == coord[1]:\n",
    "        coord.pop(0)\n",
    "\n",
    "    coord = np.array(coord)\n",
    "    # print(\"\\n::\", coord)\n",
    "\n",
    "    return coord\n",
    "\n"
   ]
  },
  {
   "cell_type": "code",
   "execution_count": 853,
   "metadata": {
    "colab": {},
    "colab_type": "code",
    "id": "kOqKNmuiX8O8"
   },
   "outputs": [],
   "source": [
    "## |> include_in_final_source <|\n",
    "##\n",
    "## Getting the sum of all pixels in a given coordinate array and the integral_image\n",
    "\n",
    "def get_sum_pixels(coord, ii_img):\n",
    "    \"\"\"\n",
    "    : coord ->\n",
    "    : ii_img ->\n",
    "    \"\"\"\n",
    "\n",
    "    if coord.shape[0]==1 and coord.shape[1]==1:\n",
    "        A = ii_img[coord[0,0,0]-1, coord[0,0,1]-1]\n",
    "        B = ii_img[coord[0,0,0]-1, coord[0,0,1]]\n",
    "        C = ii_img[coord[0,0,0], coord[0,0,1]-1]\n",
    "        D = ii_img[coord[0,0,0], coord[0,0,1]]\n",
    "    if coord.shape[0]==1 and coord.shape[1]!=1:\n",
    "        A = ii_img[coord[0,0,0]-1, coord[0,0,1]-1]\n",
    "        B = ii_img[coord[0,1,0]-1, coord[0,1,1]]\n",
    "        C = ii_img[coord[0,0,0], coord[0,0,1]-1]\n",
    "        D = ii_img[coord[0,1,0], coord[0,1,1]]\n",
    "    if coord.shape[0]!=1 and coord.shape[1]==1:\n",
    "        A = ii_img[coord[0,0,0]-1, coord[0,0,1]-1]\n",
    "        B = ii_img[coord[0,0,0]-1, coord[0,0,1]]\n",
    "        C = ii_img[coord[1,0,0], coord[1,0,1]-1]\n",
    "        D = ii_img[coord[1,0,0], coord[1,0,1]]\n",
    "    if coord.shape[0]!=1 and coord.shape[1]!=1:\n",
    "        A = ii_img[coord[0,0,0]-1, coord[0,0,1]-1]\n",
    "        B = ii_img[coord[0,1,0]-1, coord[0,1,1]]\n",
    "        C = ii_img[coord[1,0,0], coord[1,0,1]-1]\n",
    "        D = ii_img[coord[1,1,0], coord[1,1,1]]\n",
    "    \n",
    "    # print(A, B, C, D, \"\\n-----------\\n\")\n",
    "\n",
    "    ## calculate the feature value using the integral image => (A-B-C+D)\n",
    "    sum_pixels = A-B-C+D\n",
    "    return sum_pixels\n"
   ]
  },
  {
   "cell_type": "code",
   "execution_count": 854,
   "metadata": {
    "colab": {},
    "colab_type": "code",
    "id": "1P7U5Rj8Xa2O"
   },
   "outputs": [],
   "source": [
    "## |> include_in_final_source <|\n",
    "##\n",
    "## Create discriptions for all the different types of haar-like-features\n",
    "\n",
    "class HaarFeatures():\n",
    "    \"\"\"\n",
    "    docstring\n",
    "    \"\"\"\n",
    "\n",
    "    def __init__(self, win_i0, win_j0, win_w, win_h):\n",
    "        \"\"\"\n",
    "        : win_i0 ->\n",
    "        : win_j0 ->\n",
    "        : win_w ->\n",
    "        : win_h ->\n",
    "        \"\"\"\n",
    "        self.feat_type = \"default\"\n",
    "        self.win_i0 = win_i0\n",
    "        self.win_j0 = win_j0\n",
    "        self.win_w = win_w\n",
    "        self.win_h = win_h\n",
    "        self.feats = dict()\n",
    "\n",
    "    def _init_feats(self):\n",
    "        pass\n",
    "\n",
    "    def init_feats(self):\n",
    "        self._init_feats()\n",
    "\n"
   ]
  },
  {
   "cell_type": "code",
   "execution_count": 855,
   "metadata": {
    "colab": {},
    "colab_type": "code",
    "id": "2YlPS18BXayu"
   },
   "outputs": [],
   "source": [
    "## |> include_in_final_source <|\n",
    "##\n",
    "\n",
    "class HaarTypeLR(HaarFeatures):\n",
    "    \"\"\"\n",
    "    Types of haar_features extracted are displayed below:\n",
    "    ______\n",
    "    |*||#|\n",
    "    ------\n",
    "    ________\n",
    "    |**||##|\n",
    "    --------\n",
    "    ________\n",
    "    |*||#|\n",
    "    |*||#|\n",
    "    --------\n",
    "    ____________\n",
    "    |****||####|\n",
    "    ------------\n",
    "    ____________\n",
    "    |****||####|\n",
    "    |****||####|\n",
    "    ------------\n",
    "    and so on ...\n",
    "    \"\"\"\n",
    "    \n",
    "    def __init__(self, win_i0, win_j0, win_h, win_w):\n",
    "        \"\"\"\n",
    "        docstring\n",
    "        \"\"\"\n",
    "        super().__init__(win_i0, win_j0, win_h, win_w)\n",
    "        self.feat_type = \"haar_lr\"\n",
    "\n",
    "    \n",
    "    def _init_feats(self):\n",
    "        for i in range(self.win_i0+1, self.win_h):\n",
    "            for j in range(self.win_j0+1, self.win_w):\n",
    "                h = 1\n",
    "                while i+h <= self.win_h:\n",
    "                    w = 1\n",
    "                    while j+2*w <= self.win_w:\n",
    "                        coords = []\n",
    "                        coord_A = [[(i, j), (i, j+w-1)], [(i+h-1, j), (i+h-1, j+w-1)]]\n",
    "                        coord_B = [[(i, j+w), (i, j+2*w-1)], [(i+h-1, j+w), (i+h-1, j+2*w-1)]]\n",
    "\n",
    "                        coords.append(coord_A)\n",
    "                        coords.append(coord_B)\n",
    "\n",
    "                        cx = []\n",
    "                        for t in range(len(coords)):\n",
    "                            c = get_coordinates(coords[t])\n",
    "                            cx.append(c)\n",
    "                        \n",
    "                        self.feats[((i,j,h,w), self.feat_type)] = {\"feat_type\": self.feat_type, \n",
    "                                                                   \"val\": {}, \n",
    "                                                                   \"error\": 0.,\n",
    "                                                                   \"alpha\": 0.,\n",
    "                                                                   \"coord_A\": cx[0], \n",
    "                                                                   \"coord_B\": cx[1],\n",
    "                                                                   }\n",
    "                        \n",
    "                        cx = []     ## reset the coordinates for next round\n",
    "                        w += 1      ## increment the weight\n",
    "                    h += 1          ## increment the height\n",
    "   \n",
    "        \n",
    "    "
   ]
  },
  {
   "cell_type": "code",
   "execution_count": 856,
   "metadata": {},
   "outputs": [],
   "source": [
    "## |> include_in_final_source <|\n",
    "##\n",
    "\n",
    "class HaarTypeLCR(HaarFeatures):\n",
    "    \"\"\"\n",
    "    Types of haar_features extracted are displayed below:\n",
    "    _________\n",
    "    |*||#||*|\n",
    "    ---------\n",
    "    ___________\n",
    "    |**||##||**|\n",
    "    -----------\n",
    "    _________\n",
    "    |*||#||*|\n",
    "    |*||#||*|\n",
    "    ---------\n",
    "    __________________\n",
    "    |****||####||****|\n",
    "    ------------------\n",
    "    __________________\n",
    "    |****||####||****|\n",
    "    |****||####||****|\n",
    "    ------------------\n",
    "    and so on ...\n",
    "    \"\"\"\n",
    "    \n",
    "    def __init__(self, win_i0, win_j0, win_h, win_w):\n",
    "        \"\"\"\n",
    "        docstring\n",
    "        \"\"\"\n",
    "        super().__init__(win_i0, win_j0, win_h, win_w)\n",
    "        self.feat_type = \"haar_lcr\"\n",
    "\n",
    "    \n",
    "    def _init_feats(self):\n",
    "        for i in range(self.win_i0+1, self.win_h):\n",
    "            for j in range(self.win_j0+1, self.win_w):\n",
    "                h = 1\n",
    "                while i+h <= self.win_h:\n",
    "                    w = 1\n",
    "                    while j+3*w <= self.win_w:\n",
    "                        coords = []\n",
    "                        coord_A = [[(i, j), (i, j+w-1)], [(i+h-1, j), (i+h-1, j+w-1)]]\n",
    "                        coord_B = [[(i, j+w), (i, j+2*w-1)], [(i+h-1, j+w), (i+h-1, j+2*w-1)]]\n",
    "                        coord_C = [[(i, j+2*w), (i, j+3*w-1)], [(i+h-1, j+2*w), (i+h-1, j+3*w-1)]]\n",
    "\n",
    "                        coords.append(coord_A)\n",
    "                        coords.append(coord_B)\n",
    "                        coords.append(coord_C)\n",
    "\n",
    "                        cx = []\n",
    "                        for t in range(len(coords)):\n",
    "                            c = get_coordinates(coords[t])\n",
    "                            cx.append(c)\n",
    "                        \n",
    "                        self.feats[((i,j,h,w), self.feat_type)] = {\"feat_type\": self.feat_type, \n",
    "                                                                   \"val\": {}, \n",
    "                                                                   \"error\": 0.,\n",
    "                                                                   \"alpha\": 0.,\n",
    "                                                                   \"coord_A\": cx[0], \n",
    "                                                                   \"coord_B\": cx[1],\n",
    "                                                                   \"coord_C\": cx[2],\n",
    "                                                                   }\n",
    "                        \n",
    "                        cx = []     ## reset the coordinates for next round\n",
    "                        w += 1      ## increment the weight\n",
    "                    h += 1          ## increment the height\n",
    "   \n",
    "        \n",
    "    "
   ]
  },
  {
   "cell_type": "code",
   "execution_count": 857,
   "metadata": {},
   "outputs": [],
   "source": [
    "## |> include_in_final_source <|\n",
    "##\n",
    "\n",
    "class HaarTypeTB(HaarFeatures):\n",
    "    \"\"\"\n",
    "    Types of haar_features extracted are displayed below:\n",
    "    ___\n",
    "    |*|\n",
    "    |#|\n",
    "    ---\n",
    "    ___\n",
    "    |*|\n",
    "    |*|\n",
    "    |#|\n",
    "    |#|\n",
    "    ---\n",
    "    ____\n",
    "    |**|\n",
    "    |##|\n",
    "    ----\n",
    "    ____\n",
    "    |**|\n",
    "    |**|\n",
    "    |##|\n",
    "    |##|\n",
    "    ----\n",
    "    _________\n",
    "    |*******|\n",
    "    |#######|\n",
    "    ---------\n",
    "    _________\n",
    "    |*******|\n",
    "    |*******|\n",
    "    |#######|\n",
    "    |#######|\n",
    "    ---------\n",
    "    and so on ...\n",
    "    \"\"\"\n",
    "\n",
    "    def __init__(self, win_i0, win_j0, win_w, win_h):\n",
    "        \"\"\"\n",
    "        docstring\n",
    "        \"\"\"\n",
    "        super().__init__(win_i0, win_j0, win_w, win_h)\n",
    "        self.feat_type = \"haar_tb\"\n",
    "\n",
    "\n",
    "\n",
    "    def _init_feats(self):\n",
    "        for i in range(self.win_i0+1, self.win_h):\n",
    "            for j in range(self.win_j0+1, self.win_w):\n",
    "                h = 1\n",
    "                while i+2*h <= self.win_h:\n",
    "                    w = 1\n",
    "                    while j+w <= self.win_w:\n",
    "                        coords = []\n",
    "                        coord_A = [[(i, j), (i, j+w-1)], [(i+h-1, j), (i+h-1, j+w-1)]]\n",
    "                        coord_B = [[(i+h, j), (i+h, j+w-1)], [(i+2*h-1, j), (i+2*h-1, j+w-1)]]\n",
    "\n",
    "                        coords.append(coord_A)\n",
    "                        coords.append(coord_B)\n",
    "\n",
    "                        cx = []\n",
    "                        for t in range(len(coords)):\n",
    "                            c = get_coordinates(coords[t])\n",
    "                            cx.append(c)\n",
    "                        \n",
    "                        self.feats[((i,j,h,w), self.feat_type)] = {\"feat_type\": self.feat_type,\n",
    "                                                                   \"val\": {}, \n",
    "                                                                   \"error\": 0.,\n",
    "                                                                   \"alpha\": 0.,\n",
    "                                                                   \"coord_A\": cx[0], \n",
    "                                                                   \"coord_B\": cx[1],\n",
    "                                                                   }\n",
    "                        \n",
    "                        cx = []     ## reset the coordinates for next round\n",
    "                        w += 1      ## increment the weight\n",
    "                    h += 1          ## increment the height\n",
    "\n"
   ]
  },
  {
   "cell_type": "code",
   "execution_count": 858,
   "metadata": {
    "colab": {},
    "colab_type": "code",
    "id": "aIllajC2cF_4"
   },
   "outputs": [],
   "source": [
    "## |> include_in_final_source <|\n",
    "##\n",
    "\n",
    "class HaarTypeTCB(HaarFeatures):\n",
    "    \"\"\"\n",
    "    Types of haar_features extracted are displayed below:\n",
    "    ___\n",
    "    |*|\n",
    "    |#|\n",
    "    |#|\n",
    "    ---\n",
    "    ___\n",
    "    |*|\n",
    "    |*|\n",
    "    |#|\n",
    "    |#|\n",
    "    |*|\n",
    "    |*|\n",
    "    ---\n",
    "    ____\n",
    "    |**|\n",
    "    |##|\n",
    "    |##|\n",
    "    ----\n",
    "    ____\n",
    "    |**|\n",
    "    |**|\n",
    "    |##|\n",
    "    |##|\n",
    "    |**|\n",
    "    |**|\n",
    "    ----\n",
    "    _________\n",
    "    |*******|\n",
    "    |#######|\n",
    "    |*******|\n",
    "    ---------\n",
    "    _________\n",
    "    |*******|\n",
    "    |*******|\n",
    "    |#######|\n",
    "    |#######|\n",
    "    |*******|\n",
    "    |*******|\n",
    "    ---------\n",
    "    and so on ...\n",
    "    \"\"\"\n",
    "\n",
    "    def __init__(self, win_i0, win_j0, win_w, win_h):\n",
    "        \"\"\"\n",
    "        docstring\n",
    "        \"\"\"\n",
    "        super().__init__(win_i0, win_j0, win_w, win_h)\n",
    "        self.feat_type = \"haar_tcb\"\n",
    "\n",
    "\n",
    "\n",
    "    def _init_feats(self):\n",
    "        for i in range(self.win_i0+1, self.win_h):\n",
    "            for j in range(self.win_j0+1, self.win_w):\n",
    "                h = 1\n",
    "                while i+3*h <= self.win_h:\n",
    "                    w = 1\n",
    "                    while j+w <= self.win_w:\n",
    "                        coords = []\n",
    "                        coord_A = [[(i, j), (i, j+w-1)], [(i+h-1, j), (i+h-1, j+w-1)]]\n",
    "                        coord_B = [[(i+h, j), (i+h, j+w-1)], [(i+2*h-1, j), (i+2*h-1, j+w-1)]]\n",
    "                        coord_C = [[(i+2*h, j), (i+2*h, j+w-1)], [(i+3*h-1, j), (i+3*h-1, j+w-1)]]\n",
    "                        \n",
    "\n",
    "                        coords.append(coord_A)\n",
    "                        coords.append(coord_B)\n",
    "                        coords.append(coord_C)\n",
    "\n",
    "                        cx = []\n",
    "                        for t in range(len(coords)):\n",
    "                            c = get_coordinates(coords[t])\n",
    "                            cx.append(c)\n",
    "                        \n",
    "                        self.feats[((i,j,h,w), self.feat_type)] = {\"feat_type\": self.feat_type,\n",
    "                                                                   \"val\": {}, \n",
    "                                                                   \"error\": 0.,\n",
    "                                                                   \"alpha\": 0.,\n",
    "                                                                   \"coord_A\": cx[0], \n",
    "                                                                   \"coord_B\": cx[1], \n",
    "                                                                   \"coord_C\": cx[2],\n",
    "                                                                   }\n",
    "                        \n",
    "                        cx = []     ## reset the coordinates for next round\n",
    "                        w += 1      ## increment the weight\n",
    "                    h += 1          ## increment the height\n",
    "\n"
   ]
  },
  {
   "cell_type": "code",
   "execution_count": 874,
   "metadata": {
    "colab": {},
    "colab_type": "code",
    "id": "LswVXjeZcF9S"
   },
   "outputs": [],
   "source": [
    "## |>UNDER_CONSTRUCTION<|\n",
    "## |> include_in_final_source <|\n",
    "##\n",
    "\n",
    "class HaarTypeDD(HaarFeatures):\n",
    "    \"\"\"\n",
    "    |>UNDER_CONSTRUCTION<|\n",
    "    |>Define the rules for changing the h, w <|\n",
    "    Types of haar_features extracted are displayed below:\n",
    "    _____\n",
    "    |*|#|\n",
    "    |#|*|\n",
    "    -----\n",
    "    _____\n",
    "    |*|#|\n",
    "    |*|#|\n",
    "    |#|*|\n",
    "    |#|*|\n",
    "    -----\n",
    "    _______\n",
    "    |**|##|\n",
    "    |##|**|\n",
    "    -------\n",
    "    _______\n",
    "    |**|##|\n",
    "    |**|##|\n",
    "    |##|**|\n",
    "    |##|**|\n",
    "    -------\n",
    "    and so on ...\n",
    "    \"\"\"\n",
    "\n",
    "    def __init__(self, win_i0, win_j0, win_w, win_h):\n",
    "        \"\"\"\n",
    "        docstring\n",
    "        \"\"\"\n",
    "        super().__init__(win_i0, win_j0, win_w, win_h)\n",
    "        self.feat_type = \"haar_dd\"\n",
    "\n",
    "\n",
    "    def _init_feats(self):\n",
    "        for i in range(self.win_i0+1, self.win_h):\n",
    "            for j in range(self.win_j0+1, self.win_w):\n",
    "                h = 1\n",
    "                while i+2*h <= self.win_h:\n",
    "                    w = 1\n",
    "                    while j+2*w <= self.win_w:\n",
    "                        coords = []\n",
    "                        coord_A = [[(i, j), (i, j+w-1)], [(i+h-1, j), (i+h-1, j+w-1)]]\n",
    "                        coord_B = [[(i, j+w), (i, j+2*w-1)], [(i+h, j+w), (i+h, j+2*w-1)]]\n",
    "                        coord_C = [[(i+h, j), (i+h, j+w-1)], [(i+2*h-1, j), (i+2*h-1, j+w-1)]]\n",
    "                        coord_D = [[(i+h, j+w), (i+h, j+2*w-1)], [(i+2*h-1, j+w), (i+2*h-1, j+2*w-1)]]\n",
    "\n",
    "                        coords.append(coord_A)\n",
    "                        coords.append(coord_B)\n",
    "                        coords.append(coord_C)\n",
    "                        coords.append(coord_D)\n",
    "\n",
    "                        cx = []\n",
    "                        for t in range(len(coords)):\n",
    "                            c = get_coordinates(coords[t])\n",
    "                            cx.append(c)\n",
    "                        \n",
    "                        self.feats[((i,j,h,w), self.feat_type)] = {\"feat_type\": self.feat_type,\n",
    "                                                                   \"val\": {}, \n",
    "                                                                   \"error\": 0.,\n",
    "                                                                   \"alpha\": 0.,\n",
    "                                                                   \"coord_A\": cx[0], \n",
    "                                                                   \"coord_B\": cx[1], \n",
    "                                                                   \"coord_C\": cx[2],\n",
    "                                                                   \"coord_D\": cx[3],\n",
    "                                                                   }\n",
    "                        \n",
    "                        cx = []     ## reset the coordinates for next round\n",
    "                        w += 1      ## increment the weight\n",
    "                    h += 1          ## increment the height\n"
   ]
  },
  {
   "cell_type": "code",
   "execution_count": 860,
   "metadata": {
    "colab": {},
    "colab_type": "code",
    "id": "np5Yp8kacF43"
   },
   "outputs": [],
   "source": [
    "## |> include_in_final_source <|\n",
    "##\n",
    "## Initialize weights for the data\n",
    "\n",
    "def init_weights(data, keys, dist=\"Uniform\"):\n",
    "    \"\"\"\n",
    "    : data ->\n",
    "    : keys ->\n",
    "    : dist ->\n",
    "    \"\"\"\n",
    "    \n",
    "    if dist == \"Uniform\":\n",
    "        num_train = len(keys)\n",
    "        for k in keys:\n",
    "            data[k][\"weight\"] = 1. / num_train\n",
    "    if dist == \"XUniform\":\n",
    "        C = len(keys)                                   ## total number of classes\n",
    "        for c_k in keys:\n",
    "            num = len(c_k)                              ## total number of data items in each class\n",
    "            for k in c_k:\n",
    "                data[k][\"weight\"] = 1. / (C * num)\n"
   ]
  },
  {
   "cell_type": "code",
   "execution_count": 861,
   "metadata": {
    "colab": {},
    "colab_type": "code",
    "id": "G2eoO8DCcF2U"
   },
   "outputs": [],
   "source": [
    "## |> include_in_final_source <|\n",
    "##\n",
    "def create_weak_classifiers(ctypes, i0, j0, w, h):\n",
    "    \"\"\"\n",
    "    : ctypes ->\n",
    "    : i0 ->\n",
    "    : j0 ->\n",
    "    : w ->\n",
    "    : h ->\n",
    "    \"\"\"\n",
    "    classifiers = {}\n",
    "    for c in ctypes:\n",
    "        # print(c)\n",
    "        if c == \"haar_lr\":\n",
    "            h_lr = HaarTypeLR(i0, j0, w, h)\n",
    "            h_lr.init_feats()\n",
    "            classifiers.update(h_lr.feats)\n",
    "        elif c == \"haar_lcr\":\n",
    "            h_lcr = HaarTypeLCR(i0, j0, w, h)\n",
    "            h_lcr.init_feats()\n",
    "            classifiers.update(h_lcr.feats)\n",
    "        elif c == \"haar_tb\":\n",
    "            h_tb = HaarTypeTB(i0, j0, w, h)\n",
    "            h_tb.init_feats()\n",
    "            classifiers.update(h_tb.feats)\n",
    "        elif c == \"haar_tcb\":\n",
    "            h_tcb = HaarTypeTCB(i0, j0, w, h)\n",
    "            h_tcb.init_feats()\n",
    "            classifiers.update(h_tcb.feats)\n",
    "        elif c == \"haar_dd\":\n",
    "            h_dd = HaarTypeDD(i0, j0, w, h)\n",
    "            h_dd.init_feats()\n",
    "            classifiers.update(h_dd.feats)\n",
    "    return classifiers\n",
    "    "
   ]
  },
  {
   "cell_type": "code",
   "execution_count": 862,
   "metadata": {
    "colab": {},
    "colab_type": "code",
    "id": "oOR3TneYcFzG"
   },
   "outputs": [],
   "source": [
    "## |> include_in_final_source <|\n",
    "##\n",
    "def calc_feat_val(data, classifiers, i_id, c_id):\n",
    "    \"\"\"\n",
    "    : data ->\n",
    "    : classifiers ->\n",
    "    : i_id -> index(ID) of the image\n",
    "    : c_id -> index(ID) of the weak-classifier => ((i0,j0,h,w), ctype)\n",
    "    \"\"\"\n",
    "    if classifiers[c_id][\"feat_type\"] == \"haar_lr\" or classifiers[c_id][\"feat_type\"] == \"haar_tb\":\n",
    "        sum_A = get_sum_pixels(coord=classifiers[c_id][\"coord_A\"], ii_img=data[i_id][\"ii_img\"])\n",
    "        sum_B = get_sum_pixels(coord=classifiers[c_id][\"coord_B\"], ii_img=data[i_id][\"ii_img\"])\n",
    "        val = sum_A - sum_B\n",
    "        classifiers[c_id][\"val\"][i_id] = val\n",
    "        \n",
    "    elif classifiers[c_id][\"feat_type\"] == \"haar_lcr\" or classifiers[c_id][\"feat_type\"] == \"haar_tcb\":\n",
    "        sum_A = get_sum_pixels(coord=classifiers[c_id][\"coord_A\"], ii_img=data[i_id][\"ii_img\"])\n",
    "        sum_B = get_sum_pixels(coord=classifiers[c_id][\"coord_B\"], ii_img=data[i_id][\"ii_img\"])\n",
    "        sum_C = get_sum_pixels(coord=classifiers[c_id][\"coord_C\"], ii_img=data[i_id][\"ii_img\"])\n",
    "        val = sum_A - sum_B + sum_C\n",
    "        classifiers[c_id][\"val\"][i_id] = val\n",
    "        \n",
    "    elif classifiers[c_id][\"feat_type\"] == \"haar_dd\":\n",
    "        sum_A = get_sum_pixels(coord=classifiers[c_id][\"coord_A\"], ii_img=data[i_id][\"ii_img\"])\n",
    "        sum_B = get_sum_pixels(coord=classifiers[c_id][\"coord_B\"], ii_img=data[i_id][\"ii_img\"])\n",
    "        sum_C = get_sum_pixels(coord=classifiers[c_id][\"coord_C\"], ii_img=data[i_id][\"ii_img\"])\n",
    "        sum_D = get_sum_pixels(coord=classifiers[c_id][\"coord_D\"], ii_img=data[i_id][\"ii_img\"])\n",
    "        val = sum_A - sum_B + sum_C - sum_D\n",
    "        classifiers[c_id][\"val\"][i_id] = val"
   ]
  },
  {
   "cell_type": "code",
   "execution_count": 863,
   "metadata": {
    "colab": {},
    "colab_type": "code",
    "id": "Bu2N1iurdtbm"
   },
   "outputs": [],
   "source": [
    "## |> include_in_final_source <|\n",
    "##\n",
    "## get threshold for each weak-classifier\n",
    "\n",
    "def calc_threshold_and_polarity(data, classifiers):\n",
    "    \"\"\"\n",
    "    : data ->\n",
    "    : classifiers ->\n",
    "    \"\"\"\n",
    "    \n",
    "    for c_id in classifiers:\n",
    "        ## sort the feat_val for each image in ascending order of the feat_val\n",
    "        sorted_vals = sorted(classifiers[c_id][\"val\"].items(), key=lambda x:x[1])\n",
    "        ## calculate the weights of LEFT=(neg_till + pos_all - pos_till) & RIGHT=(pos_till + neg_all -neg_till)\n",
    "        sum_weights_neg_all = 0\n",
    "        sum_weights_pos_all = 0\n",
    "        sum_weights_neg_till = 0\n",
    "        sum_weights_pos_till = 0\n",
    "        errs = {}\n",
    "        polarity = {}\n",
    "        for i_id in data:\n",
    "            if data[i_id][\"label\"] == 0:\n",
    "                sum_weights_neg_all += data[i_id][\"weight\"]\n",
    "            elif data[i_id][\"label\"] == 1:\n",
    "                sum_weights_pos_all += data[i_id][\"weight\"]\n",
    "\n",
    "        for item in sorted_vals:\n",
    "            ## item -> (i_id, f_val)\n",
    "            i_id = item[0]\n",
    "            if data[i_id][\"label\"] == 0:\n",
    "                sum_weights_neg_till += data[i_id][\"weight\"]\n",
    "            elif data[i_id][\"label\"] == 1:\n",
    "                sum_weights_pos_till += data[i_id][\"weight\"]\n",
    "            left = sum_weights_neg_till + sum_weights_pos_all - sum_weights_pos_till\n",
    "            right = sum_weights_pos_till + sum_weights_neg_all - sum_weights_neg_till\n",
    "            # errs[i_id] = min(left, right)\n",
    "            if left <= right:\n",
    "                errs[i_id] = left\n",
    "                polarity[i_id] = -1\n",
    "            elif left > right:\n",
    "                errs[i_id] = right\n",
    "                polarity[i_id] = 1\n",
    "        \n",
    "        thres_iid = sorted(errs.items(), key=lambda x:x[1])[0][0]\n",
    "        classifiers[c_id][\"threshold\"] = classifiers[c_id][\"val\"][thres_iid]\n",
    "        classifiers[c_id][\"polarity\"] = polarity[thres_iid]\n",
    "\n",
    "def calc_pred_and_error(data, classifiers):\n",
    "    for c_id in classifiers:\n",
    "        ## initialize predicted_labels\n",
    "        classifiers[c_id][\"pred_labels\"] = {}\n",
    "        error = 0\n",
    "        for i_id in classifiers[c_id][\"val\"]:\n",
    "            polarity = classifiers[c_id][\"polarity\"]\n",
    "            if polarity * classifiers[c_id][\"val\"][i_id] >= polarity * classifiers[c_id][\"threshold\"]:\n",
    "                classifiers[c_id][\"pred_labels\"][i_id] = 1\n",
    "            else:\n",
    "                classifiers[c_id][\"pred_labels\"][i_id] = 0\n",
    "\n",
    "            if classifiers[c_id][\"pred_labels\"][i_id] != data[i_id][\"label\"]:\n",
    "                error += data[i_id][\"weight\"]\n",
    "        classifiers[c_id][\"error\"] = error\n",
    "\n"
   ]
  },
  {
   "cell_type": "code",
   "execution_count": 864,
   "metadata": {
    "colab": {},
    "colab_type": "code",
    "id": "teJmhPVOdtYN"
   },
   "outputs": [],
   "source": [
    "## |> include_in_final_source <|\n",
    "##\n",
    "\n",
    "def get_best_classifier(classifiers):\n",
    "    \"\"\"\n",
    "    : classifiers ->\n",
    "    \"\"\"\n",
    "\n",
    "    sorted_errors = sorted([(c_id, classifiers[c_id][\"error\"]) for c_id in classifiers], key=lambda x:x[1])\n",
    "    # sorted_errors = sorted(error_all_feats.items(), key=lambda x:x[1])\n",
    "    best_c_id = sorted_errors[0][0]\n",
    "    best_error = sorted_errors[0][1]\n",
    "    best_alpha = 0.5 * np.log((1-best_error)/best_error)\n",
    "    classifiers[best_c_id][\"alpha\"] = best_alpha\n",
    "    return best_c_id\n",
    "\n"
   ]
  },
  {
   "cell_type": "code",
   "execution_count": 865,
   "metadata": {
    "colab": {},
    "colab_type": "code",
    "id": "CgiKJ4kEf4K2"
   },
   "outputs": [],
   "source": [
    "## |> include_in_final_source <|\n",
    "##\n",
    "\n",
    "def update_normalized_weights(data, classifiers, c_id):\n",
    "    \"\"\"\n",
    "    : data ->\n",
    "    : classifiers ->\n",
    "    : c_id -> best_c_id\n",
    "    \"\"\"\n",
    "    \n",
    "    ## calculate the weight normalization factor\n",
    "    norm_factor = 0\n",
    "    for i_id in data:\n",
    "        if classifiers[c_id][\"pred_labels\"][i_id] != data[i_id][\"label\"]:\n",
    "            norm_factor += data[i_id][\"weight\"] * np.exp(classifiers[c_id][\"alpha\"])\n",
    "        elif classifiers[c_id][\"pred_labels\"][i_id] == data[i_id][\"label\"]:\n",
    "            norm_factor += data[i_id][\"weight\"] * np.exp(-1 * classifiers[c_id][\"alpha\"])\n",
    "\n",
    "    ## normalize and update the weights of all data\n",
    "    for i_id in data:        \n",
    "        if classifiers[c_id][\"pred_labels\"][i_id] != data[i_id][\"label\"]:\n",
    "            data[i_id][\"weight\"] *= np.exp(classifiers[c_id][\"alpha\"])\n",
    "            data[i_id][\"weight\"] /= norm_factor\n",
    "        elif classifiers[c_id][\"pred_labels\"][i_id] == data[i_id][\"label\"]:\n",
    "            data[i_id][\"weight\"] *= np.exp(-1 * classifiers[c_id][\"alpha\"])\n",
    "            data[i_id][\"weight\"] /= norm_factor\n"
   ]
  },
  {
   "cell_type": "code",
   "execution_count": null,
   "metadata": {
    "colab": {},
    "colab_type": "code",
    "id": "9UlckaQtdtM_"
   },
   "outputs": [],
   "source": []
  },
  {
   "cell_type": "code",
   "execution_count": 886,
   "metadata": {
    "colab": {},
    "colab_type": "code",
    "id": "Dl-5OLtkdXM8"
   },
   "outputs": [],
   "source": [
    "## |> include_in_final_source <|\n",
    "##\n",
    "##\n",
    "## 👍 for iter t <= T:\n",
    "##      👍 Calculate the vals for each image for each weak-classifier\n",
    "##      👍 Get threshold\n",
    "##      👍 Get error\n",
    "##      👍 Get the best-feature (weak-classifier)\n",
    "##      👍 Get the best-features's ALPHA\n",
    "##      👍 Update the weights with normalization\n",
    "##      👍 Return the (best-feature, ALPHA)\n",
    "##\n",
    "##\n",
    "def run_adaboost(data, classifiers, num_epochs, verbose=True):\n",
    "    \"\"\"\n",
    "    : data ->\n",
    "    : classifiers ->\n",
    "    : num_steps ->\n",
    "    : verbose ->\n",
    "    \"\"\"\n",
    "    \n",
    "    strong_classifier = []          ## a strong-classifier is an array of multiple weak-classifiers\n",
    "    for epoch in range(num_epochs):\n",
    "        cid0 = list(calssifiers.keys())[0]\n",
    "        if epoch==0 and (len(classifiers[cid0][\"val\"].keys()) == 0):\n",
    "            ## calculate \"val\" only for the 1st epoch (as it remains same after)\n",
    "            t0 = time.time()\n",
    "            for c_id in classifiers:\n",
    "                for i_id in data:\n",
    "                    ## 👍 calculate the vals for all data\n",
    "                    calc_feat_val(data=data, classifiers=classifiers, i_id=i_id, c_id=c_id)\n",
    "            print(f\"⏰calc_feat_val() took => {time.time()-t0} seconds @epoch[{epoch}]!!\")\n",
    "        ## 👍 get threshold and error for each weak-classifier\n",
    "        calc_threshold_and_polarity(data, classifiers)\n",
    "        calc_pred_and_error(data, classifiers)\n",
    "        ## 👍 Get the best-feature (weak-classifier), its ALPHA & store it in strong-classifier\n",
    "        best_c_id = get_best_classifier(classifiers)\n",
    "        # strong_classifier[best_c_id] = classifiers[best_c_id].copy()\n",
    "        strong_classifier.append({best_c_id: classifiers[best_c_id].copy()})\n",
    "        # strong_classifier[t] = classifiers[best_c_id].copy()\n",
    "        ## 👍 Normalize & update the weights\n",
    "        update_normalized_weights(data=data, classifiers=classifiers, c_id=best_c_id)\n",
    "        if verbose:\n",
    "            print(f\"epoch[{epoch}/{num_epochs}] => {best_c_id} \" \\\n",
    "                f\":: (error->{classifiers[best_c_id]['error']}) \" \\\n",
    "                f\":: (alpha->{classifiers[best_c_id]['alpha']})\")\n",
    "    return strong_classifier\n",
    "\n"
   ]
  },
  {
   "cell_type": "code",
   "execution_count": 887,
   "metadata": {
    "colab": {},
    "colab_type": "code",
    "id": "kGW4hz7pcFv2"
   },
   "outputs": [],
   "source": [
    "## |> include_in_final_source <|\n",
    "##\n",
    "def draw_classifier(data, strong_classifier, win_h, win_w, i_id):\n",
    "    \"\"\"\n",
    "    : data ->\n",
    "    : strong_classifier -> \n",
    "    : win_h ->\n",
    "    : win_w ->\n",
    "    : i_id ->\n",
    "    \"\"\"\n",
    "\n",
    "    for wc in strong_classifier:\n",
    "        c_id = list(wc.keys())[0]\n",
    "        classifier_img = np.ones((win_h+2, win_w+2))*255\n",
    "        # print(classifier_img)\n",
    "\n",
    "        i0 = c_id[0][0]\n",
    "        j0 = c_id[0][1]\n",
    "        h = c_id[0][2]\n",
    "        w = c_id[0][3]\n",
    "        c_type = c_id[1]\n",
    "        if c_type==\"haar_lr\":\n",
    "            for i in range(i0, i0+h):\n",
    "                for j in range(j0, j0+w):\n",
    "                    classifier_img[i,j] = 125          ## A\n",
    "                for j in range(j0+w, j0+2*w):\n",
    "                    classifier_img[i,j] = 0            ## B\n",
    "        elif c_type==\"haar_lcr\":\n",
    "            for i in range(i0, i0+h):\n",
    "                for j in range(j0, j0+w):\n",
    "                    classifier_img[i,j] = 125          ## A\n",
    "                for j in range(j0+w, j0+2*w):\n",
    "                    classifier_img[i,j] = 0            ## B\n",
    "                for j in range(j0+2*w, j0+3*w):\n",
    "                    classifier_img[i,j] = 125          ## C\n",
    "        elif c_type==\"haar_tb\":\n",
    "            for j in range(j0, j0+w):\n",
    "                for i in range(i0, i0+h):\n",
    "                    classifier_img[i,j] = 125          ## A\n",
    "                for i in range(i0+h, i0+2*h):\n",
    "                    classifier_img[i,j] = 0            ## B\n",
    "        elif c_type==\"haar_tcb\":\n",
    "            for j in range(j0, j0+w):\n",
    "                for i in range(i0, i0+h):\n",
    "                    classifier_img[i,j] = 125          ## A\n",
    "                for i in range(i0+h, i0+2*h):\n",
    "                    classifier_img[i,j] = 0            ## B\n",
    "                for i in range(i0+2*h, i0+3*h):\n",
    "                    classifier_img[i,j] = 125          ## C\n",
    "        elif c_type==\"haar_dd\":\n",
    "            for i in range(i0, i0+h):\n",
    "                for j in range(j0, j0+w):\n",
    "                    classifier_img[i,j] = 125          ## A\n",
    "                for j in range(j0+w, j0+2*w):\n",
    "                    classifier_img[i,j] = 0            ## B\n",
    "            for i in range(i0+h, i0+2*h):\n",
    "                for j in range(j0, j0+w):\n",
    "                    classifier_img[i,j] = 0            ## C\n",
    "                for j in range(j0+w, j0+2*w):\n",
    "                    classifier_img[i,j] = 125          ## D\n",
    "\n",
    "        plt.figure()\n",
    "        plt.imshow(data[i_id][\"img\"], cmap=\"gray\")\n",
    "        plt.imshow(classifier_img[1:-1, 1:-1], cmap=\"hot\", alpha=0.7)\n",
    "        plt.title(f\"{c_id}, error={wc[c_id]['error']}, alpha={wc[c_id]['alpha']}\")\n",
    "    \n"
   ]
  },
  {
   "cell_type": "code",
   "execution_count": 888,
   "metadata": {},
   "outputs": [],
   "source": [
    "## |> include_in_final_source <|\n",
    "##\n",
    "\n",
    "class Cascade():\n",
    "    def __init__(self, strong_classifier=None):\n",
    "        self.strong_classifier = strong_classifier\n",
    "    \n",
    "    def train(self, data, keys, num_epochs, c_types, weight_dist=\"Uniform\", template=(0,0,20,20), verbose=False):\n",
    "        \"\"\"\n",
    "        : data ->\n",
    "        : c_types -> different types of classifiers (haar-type-classifiers) :: [\"haar_lr\", \"haar_tb\", \"haar_lcr\", \"haar_tcb\", \"haar_dd\"]\n",
    "        : weight_dist -> ::\"Uniform\" or \"XUniform\"\n",
    "        : template -> (i0, j0, h, w) of the window  :: (0,0,20,20)\n",
    "        : verbose -> :: True or False\n",
    "        \"\"\"\n",
    "        self.num_epochs = num_epochs\n",
    "        \n",
    "        t0 = time.time()\n",
    "        ## 👍 initialize the weights\n",
    "        # keys = data.keys()\n",
    "        init_weights(data=data, keys=keys, dist=weight_dist)\n",
    "\n",
    "        ## 👍 create ALL haar-like-features\n",
    "        classifiers = create_weak_classifiers(ctypes=c_types, \n",
    "                                                   i0=template[0],\n",
    "                                                   j0=template[1],\n",
    "                                                   w=template[2],\n",
    "                                                   h=template[3])\n",
    "        \n",
    "        ## write rules for training in each mode-type\n",
    "        \n",
    "        if verbose: print(f\"<|CASCADE|>|> #classifiers=>{len(classifiers)}\")\n",
    "        self.strong_classifier = run_adaboost(data=data, classifiers=classifiers, num_epochs=self.num_epochs, verbose=verbose)\n",
    "        if verbose: print(f\"Time taken => {time.time()-t0} seconds!!\")\n",
    "        \n",
    "    \n",
    "    def test(self, data, mode, verbose=False):\n",
    "        \"\"\"\n",
    "        : data ->\n",
    "        : mode -> ::[\"sequential\", \"committe\", \"attentional\"]\n",
    "        : verbose ->\n",
    "        \"\"\"\n",
    "        assert len(self.strong_classifier) != 0\n",
    "        self.mode=mode\n",
    "        if mode == \"sequential\":\n",
    "            allowed_iids = list(data.keys())\n",
    "            stage = 0\n",
    "            for wc in self.strong_classifier:\n",
    "                c_id = list(wc.keys())[0]\n",
    "                wc[c_id][\"val\"] = {}           ## reset the garbage from training process\n",
    "                wc[c_id][\"pred_labels\"] = {}   ## reset the garbage from training process\n",
    "                error = 0\n",
    "                new_allowed_iids = []\n",
    "                \n",
    "                for i_id in allowed_iids:\n",
    "                    calc_feat_val(data=data, classifiers=wc, i_id=i_id, c_id=c_id)\n",
    "                    polarity = wc[c_id][\"polarity\"]\n",
    "                    if polarity * wc[c_id][\"val\"][i_id] >= polarity * wc[c_id][\"threshold\"]:\n",
    "                        wc[c_id][\"pred_labels\"][i_id] = 1\n",
    "                        new_allowed_iids.append(i_id)             ## only faces are sent to the next weak-clasifier\n",
    "                    else:\n",
    "                        wc[c_id][\"pred_labels\"][i_id] = 0\n",
    "\n",
    "                    if wc[c_id][\"pred_labels\"][i_id] != data[i_id][\"label\"]:\n",
    "                        error += 1\n",
    "                wc[c_id][\"stage_test_error\"] = error/len(allowed_iids)\n",
    "\n",
    "                ## update the allowed_iids to be classified by next weak-classifier\n",
    "                allowed_iids = new_allowed_iids\n",
    "\n",
    "                if verbose: \n",
    "                    print(f\"mode=[{mode}]: stage[{stage}]=> passed = [{len(allowed_iids)}/{len(data)}] \" \\\n",
    "                        f\":: stage_test_error -> {wc[c_id]['stage_test_error']} \" \\\n",
    "                        f\":: overall_test_error -> {error/len(data)}\")\n",
    "                stage += 1\n",
    "                \n",
    "        elif mode == \"committee\":\n",
    "            ## if (sum_t(alpha_t * polarity_t * val_t_i) >= sum_t(alpha_t * polarity_t * thresh_t)) => 1 else 0\n",
    "            pred_xvals = {}\n",
    "            weighted_committe_threshold = 0\n",
    "            error = 0\n",
    "            for wc in self.strong_classifier:\n",
    "                c_id = list(wc.keys())[0]\n",
    "                wc[c_id][\"val\"] = {}           ## reset the garbage from training process\n",
    "                wc[c_id][\"pred_labels\"] = {}   ## reset the garbage from training process\n",
    "                weighted_committe_threshold += wc[c_id][\"alpha\"] * wc[c_id][\"polarity\"] * wc[c_id][\"threshold\"]\n",
    "                \n",
    "                for i_id in data.keys():\n",
    "                    calc_feat_val(data=data, classifiers=wc, i_id=i_id, c_id=c_id)\n",
    "                    if i_id not in pred_xvals.keys():\n",
    "                        pred_xvals[i_id] = [wc[c_id][\"alpha\"] * wc[c_id][\"polarity\"] * wc[c_id][\"val\"][i_id]]\n",
    "                    else:\n",
    "                        pred_xvals[i_id].append(wc[c_id][\"alpha\"] * wc[c_id][\"polarity\"] * wc[c_id][\"val\"][i_id])\n",
    "            \n",
    "            for i_id in data.keys():\n",
    "                pred_xvals[i_id].append(np.sum(pred_xvals[i_id]))\n",
    "                \n",
    "                ## calculate the predicted labels\n",
    "                if pred_xvals[i_id][-1] >= weighted_committe_threshold:\n",
    "                    pred_xvals[i_id].append(1)\n",
    "                    if pred_xvals[i_id][-1] != data[i_id][\"label\"]: error += 1\n",
    "                else:\n",
    "                    pred_xvals[i_id].append(0)\n",
    "                    if pred_xvals[i_id][-1] != data[i_id][\"label\"]: error += 1\n",
    "                    \n",
    "            ## calculate the \"error\" for the commitee\n",
    "            error /= len(data.keys())\n",
    "            if verbose: \n",
    "                    print(f\"mode=[{mode}] => overall_test_error -> {error}\")\n",
    "            res = {}\n",
    "            for iid in pred_xvals.keys():\n",
    "                res[iid] = pred_xvals[iid][-2]\n",
    "            return res\n",
    "\n",
    "    def draw(self, data, i_id, win_h, win_w):\n",
    "        \"\"\"\n",
    "        : data -> used to draw the background overlay\n",
    "        : i_id -> which image to draw on the background of the classifiers \n",
    "        : win_h -> window width\n",
    "        : win_w -> window height\n",
    "        \"\"\"\n",
    "        draw_classifier(data=data, strong_classifier=self.strong_classifier, win_h=win_h, win_w=win_w, i_id=i_id)\n"
   ]
  },
  {
   "cell_type": "code",
   "execution_count": 890,
   "metadata": {},
   "outputs": [],
   "source": [
    "## |> include_in_final_source <|\n",
    "##\n",
    "## Draw ROC curve & AUC\n",
    "\n",
    "def draw_roc_curve(data, mode, classifiers=None, predictions=None):\n",
    "    \"\"\"\n",
    "    : classifiers -> [optional]\n",
    "    : predictions -> [optional]\n",
    "    \"\"\"\n",
    "    plt.figure()\n",
    "    plt.title(\"ROC Curve for all classifiers\")\n",
    "    \n",
    "    if mode == \"sequential\":\n",
    "        idx = 0\n",
    "        for wc in classifiers:\n",
    "            c_id = list(wc.keys())[0]\n",
    "            polarity = wc[c_id][\"polarity\"]\n",
    "            iids = sorted(list(wc[c_id][\"val\"].keys()))\n",
    "            labels = []\n",
    "            preds_vals = []\n",
    "            val_min = 1e6\n",
    "            val_max = -1e6\n",
    "            for i_id in iids:\n",
    "                labels.append(data[i_id][\"label\"])\n",
    "                val = wc[c_id][\"val\"][i_id]\n",
    "                preds_vals.append(val)\n",
    "                if val_min > val:\n",
    "                    val_min = val\n",
    "                if val_max < val:\n",
    "                    val_max = val\n",
    "\n",
    "            D = np.zeros((100, len(iids)+6))\n",
    "            for i, t in enumerate(np.linspace(val_min, val_max, 100)):\n",
    "                preds = [int(polarity*p > polarity*t) for p in preds_vals]\n",
    "                D[i][:-6] = preds\n",
    "\n",
    "                for j in range(len(D[i])-6):\n",
    "                    if labels[j] == 1 and D[i, j] == 1:   ## TP\n",
    "                        D[i,-6] += 1\n",
    "                    if labels[j] == 1 and D[i, j] == 0:   ## FP\n",
    "                        D[i,-5] += 1\n",
    "                    if labels[j] == 0 and D[i, j] == 0:   ## TN\n",
    "                        D[i,-4] += 1\n",
    "                    if labels[j] == 0 and D[i, j] == 1:   ## FN\n",
    "                        D[i,-3] += 1\n",
    "                if (D[i,-6] + D[i,-3]) != 0:\n",
    "                    D[i][-2] = D[i,-6] / (D[i,-6] + D[i,-3])   ## TPR\n",
    "                if (D[i,-5] + D[i,-4]) != 0:\n",
    "                    D[i][-1] = D[i,-5] / (D[i,-5] + D[i,-4])   ## FPR\n",
    "\n",
    "            tpr = list(D[:, -2])\n",
    "            fpr = list(D[:, -1])\n",
    "            rates = [[f, t] for f, t in zip(fpr, tpr)]\n",
    "            sorted_rates = np.array(sorted(rates, key=lambda x:x[0])).T\n",
    "\n",
    "            auc = sklearn.metrics.auc(sorted_rates[0], sorted_rates[1])\n",
    "\n",
    "            plt.plot(sorted_rates[0], sorted_rates[1], label=f\"stage-{idx}: AUC={auc}\")\n",
    "            plt.xlabel(\"FPR\")\n",
    "            plt.ylabel(\"TPR\")\n",
    "            plt.legend()\n",
    "            idx += 1\n",
    "    elif mode==\"committee\":\n",
    "        # predictions -> {i_id: pred_xvals}\n",
    "        labels = []\n",
    "        iids = list(sorted(predictions.keys()))\n",
    "        preds_xvals = []\n",
    "        val_min = 1e6\n",
    "        val_max = -1e6\n",
    "        D = np.zeros((100, len(iids)+6))\n",
    "        \n",
    "        for i_id in iids:\n",
    "            labels.append(data[i_id][\"label\"])\n",
    "            xval = predictions[i_id]\n",
    "            preds_xvals.append(xval)\n",
    "            if val_min > xval:\n",
    "                val_min = xval\n",
    "            if val_max < xval:\n",
    "                val_max = xval\n",
    "        for i, t in enumerate(np.linspace(val_min, val_max, 100)):\n",
    "            preds = [int(p >= t) for p in preds_xvals]\n",
    "            D[i][:-6] = preds\n",
    "\n",
    "            for j in range(len(D[i])-6):\n",
    "                if labels[j] == 1 and D[i, j] == 1:   ## TP\n",
    "                    D[i,-6] += 1\n",
    "                if labels[j] == 1 and D[i, j] == 0:   ## FP\n",
    "                    D[i,-5] += 1\n",
    "                if labels[j] == 0 and D[i, j] == 0:   ## TN\n",
    "                    D[i,-4] += 1\n",
    "                if labels[j] == 0 and D[i, j] == 1:   ## FN\n",
    "                    D[i,-3] += 1\n",
    "            if (D[i,-6] + D[i,-3]) != 0:\n",
    "                D[i][-2] = D[i,-6] / (D[i,-6] + D[i,-3])   ## TPR\n",
    "            if (D[i,-5] + D[i,-4]) != 0:\n",
    "                D[i][-1] = D[i,-5] / (D[i,-5] + D[i,-4])   ## FPR\n",
    "        tpr = list(D[:, -2])\n",
    "        fpr = list(D[:, -1])\n",
    "        rates = [[f, t] for f, t in zip(fpr, tpr)]\n",
    "        sorted_rates = np.array(sorted(rates, key=lambda x:x[0])).T\n",
    "\n",
    "        auc = sklearn.metrics.auc(sorted_rates[0], sorted_rates[1])\n",
    "\n",
    "        plt.plot(sorted_rates[0], sorted_rates[1], label=f\"{mode}: AUC={auc}\")\n",
    "        plt.xlabel(\"FPR\")\n",
    "        plt.ylabel(\"TPR\")\n",
    "        plt.legend()\n",
    "    plt.show()\n",
    "\n",
    " "
   ]
  },
  {
   "cell_type": "code",
   "execution_count": null,
   "metadata": {},
   "outputs": [],
   "source": []
  },
  {
   "cell_type": "code",
   "execution_count": null,
   "metadata": {},
   "outputs": [],
   "source": []
  },
  {
   "cell_type": "code",
   "execution_count": null,
   "metadata": {},
   "outputs": [],
   "source": []
  },
  {
   "cell_type": "code",
   "execution_count": null,
   "metadata": {},
   "outputs": [],
   "source": []
  },
  {
   "cell_type": "code",
   "execution_count": null,
   "metadata": {},
   "outputs": [],
   "source": []
  },
  {
   "cell_type": "code",
   "execution_count": 871,
   "metadata": {
    "colab": {
     "base_uri": "https://localhost:8080/",
     "height": 34
    },
    "colab_type": "code",
    "id": "9sVm9RYgff75",
    "outputId": "d00d519e-f3a4-441d-f6c6-cf7966ed4cd6"
   },
   "outputs": [
    {
     "data": {
      "text/plain": [
       "1584919948.5908759"
      ]
     },
     "execution_count": 871,
     "metadata": {},
     "output_type": "execute_result"
    }
   ],
   "source": [
    "time.time()"
   ]
  },
  {
   "cell_type": "code",
   "execution_count": null,
   "metadata": {},
   "outputs": [],
   "source": []
  },
  {
   "cell_type": "code",
   "execution_count": null,
   "metadata": {},
   "outputs": [],
   "source": []
  },
  {
   "cell_type": "code",
   "execution_count": null,
   "metadata": {},
   "outputs": [],
   "source": []
  },
  {
   "cell_type": "code",
   "execution_count": null,
   "metadata": {},
   "outputs": [],
   "source": []
  },
  {
   "cell_type": "code",
   "execution_count": 891,
   "metadata": {
    "colab": {},
    "colab_type": "code",
    "id": "HI2cjd2bcFsk"
   },
   "outputs": [],
   "source": [
    "## 🥶🥵⚠️🎉👍⏰"
   ]
  },
  {
   "cell_type": "code",
   "execution_count": null,
   "metadata": {},
   "outputs": [],
   "source": []
  },
  {
   "cell_type": "code",
   "execution_count": null,
   "metadata": {},
   "outputs": [],
   "source": []
  },
  {
   "cell_type": "code",
   "execution_count": 873,
   "metadata": {
    "colab": {},
    "colab_type": "code",
    "id": "Fqgf1AthcFpg"
   },
   "outputs": [
    {
     "name": "stdout",
     "output_type": "stream",
     "text": [
      "num_data => 300 :: img_shape = (20, 20)\n",
      "num_data => 879 :: img_shape = (20, 20)\n"
     ]
    }
   ],
   "source": [
    "## |> include_in_final_source <|\n",
    "## 🎉🎉 MASTER CODE 🎉🎉 PART-1 (DATALOADING) 🎉🎉\n",
    "## \n",
    "## 👍 grab the pos & neg training data (windows) and their labels\n",
    "\n",
    "path_pos_data_train = f\"../data/face_train/\"\n",
    "path_neg_data_train = f\"../data/bg_train/\"\n",
    "shape=(350, 350)\n",
    "resolution=(20, 20)\n",
    "\n",
    "pos_data_train = get_data(path=path_pos_data_train, shape=shape, resolution=resolution, as_gray=True, ctype=\"pos\")\n",
    "neg_data_train = get_data(path=path_neg_data_train, shape=(20, 20), resolution=resolution, as_gray=True, ctype=\"neg\")\n",
    "data_train = {**pos_data_train, **neg_data_train}\n",
    "\n",
    "## 🥵 calculate integral-image for all data\n",
    "for i_id in data_train.keys():\n",
    "    ii_img = create_integral_image(data_train[i_id][\"img\"])\n",
    "    data_train[i_id][\"ii_img\"] = ii_img\n",
    "    \n"
   ]
  },
  {
   "cell_type": "code",
   "execution_count": null,
   "metadata": {},
   "outputs": [],
   "source": []
  },
  {
   "cell_type": "code",
   "execution_count": 896,
   "metadata": {},
   "outputs": [
    {
     "name": "stdout",
     "output_type": "stream",
     "text": [
      "<|CASCADE|>|> #classifiers=>55860\n",
      "⏰calc_feat_val() took => 838.880529165268 seconds @epoch[0]!!\n",
      "epoch[0/5] => ((1, 2, 3, 3), 'haar_lr') :: (error->0.06700593723494487) :: (alpha->1.3168088031597203)\n",
      "epoch[1/5] => ((1, 13, 3, 1), 'haar_tcb') :: (error->0.09353279631760517) :: (alpha->1.1356213564669195)\n",
      "epoch[2/5] => ((1, 16, 6, 2), 'haar_lr') :: (error->0.11284739107754822) :: (alpha->1.0309903168286074)\n",
      "epoch[3/5] => ((8, 16, 4, 1), 'haar_tcb') :: (error->0.16761127545433152) :: (alpha->0.8013260434728907)\n",
      "epoch[4/5] => ((9, 2, 5, 2), 'haar_lr') :: (error->0.15162335430268106) :: (alpha->0.8609625906865277)\n",
      "Time taken => 2547.447574853897 seconds!!\n"
     ]
    }
   ],
   "source": [
    "## Cascade|> include_in_final_source <|\n",
    "## 🚀🚀 MASTER CODE 🚀🚀 PART-2.new (CASCADE training) 🚀🚀\n",
    "## \n",
    "num_epochs = 5\n",
    "c_types = [\"haar_lr\", \"haar_lcr\", \"haar_tb\", \"haar_tcb\"]\n",
    "weight_dist = \"Uniform\"\n",
    "# i_id_keys = [list(pos_data_train), list(neg_data_train)]\n",
    "i_id_keys = data_train.keys()\n",
    "template = (0,0,20,20)\n",
    "mode = \"sequential\"   ## otherwise can use these aswell -> [\"committe\", \"attentional\"]\n",
    "\n",
    "## Build & train a cascade\n",
    "cascade = Cascade()\n",
    "cascade.train(data=data_train, keys=i_id_keys, num_epochs=num_epochs, c_types=c_types, weight_dist=weight_dist, template=template, verbose=True)"
   ]
  },
  {
   "cell_type": "code",
   "execution_count": 897,
   "metadata": {
    "colab": {},
    "colab_type": "code",
    "id": "JH7f_qJX5Un2"
   },
   "outputs": [
    {
     "name": "stdout",
     "output_type": "stream",
     "text": [
      "num_data => 116 :: img_shape = (20, 20)\n",
      "num_data => 50 :: img_shape = (20, 20)\n"
     ]
    }
   ],
   "source": [
    "## |> include_in_final_source <|\n",
    "## 🚀🚀 MASTER CODE 🚀🚀 PART-3 (TEST DATA-LOADING) 🚀🚀\n",
    "## \n",
    "## 👍 grab the pos & neg training data (windows) and their labels\n",
    "\n",
    "path_pos_data_test = f\"../data/face_test/\"\n",
    "path_neg_data_test = f\"../data/bg_test/\"\n",
    "shape=(350, 350)\n",
    "resolution=(20, 20)\n",
    "\n",
    "pos_data_test = get_data(path=path_pos_data_test, shape=shape, resolution=resolution, as_gray=True, ctype=\"pos\")\n",
    "neg_data_test = get_data(path=path_neg_data_test, shape=(20,20), resolution=resolution, as_gray=True, ctype=\"neg\")\n",
    "data_test = {**pos_data_test, **neg_data_test}\n",
    "\n",
    "## 🥵 calculate integral-image for all data\n",
    "for i_id in data_test.keys():\n",
    "    ii_img = create_integral_image(data_test[i_id][\"img\"])\n",
    "    data_test[i_id][\"ii_img\"] = ii_img\n"
   ]
  },
  {
   "cell_type": "code",
   "execution_count": 898,
   "metadata": {
    "colab": {},
    "colab_type": "code",
    "id": "fybTfoaC5Ukf"
   },
   "outputs": [
    {
     "name": "stdout",
     "output_type": "stream",
     "text": [
      "mode=[sequential]: stage[0]=> passed = [114/166] :: stage_test_error -> 0.24096385542168675 :: overall_test_error -> 0.24096385542168675\n",
      "mode=[sequential]: stage[1]=> passed = [58/166] :: stage_test_error -> 0.32456140350877194 :: overall_test_error -> 0.22289156626506024\n",
      "mode=[sequential]: stage[2]=> passed = [55/166] :: stage_test_error -> 0.05172413793103448 :: overall_test_error -> 0.018072289156626505\n",
      "mode=[sequential]: stage[3]=> passed = [9/166] :: stage_test_error -> 0.8363636363636363 :: overall_test_error -> 0.27710843373493976\n",
      "mode=[sequential]: stage[4]=> passed = [5/166] :: stage_test_error -> 0.4444444444444444 :: overall_test_error -> 0.024096385542168676\n"
     ]
    },
    {
     "data": {
      "image/png": "[encoded data removed]",
      "text/plain": [
       "<Figure size 432x288 with 1 Axes>"
      ]
     },
     "metadata": {
      "needs_background": "light"
     },
     "output_type": "display_data"
    },
    {
     "data": {
      "image/png": "[encoded data removed]",
      "text/plain": [
       "<Figure size 432x288 with 1 Axes>"
      ]
     },
     "metadata": {
      "needs_background": "light"
     },
     "output_type": "display_data"
    },
    {
     "data": {
      "image/png": "[encoded data removed]",
      "text/plain": [
       "<Figure size 432x288 with 1 Axes>"
      ]
     },
     "metadata": {
      "needs_background": "light"
     },
     "output_type": "display_data"
    },
    {
     "data": {
      "image/png": "[encoded data removed]",
      "text/plain": [
       "<Figure size 432x288 with 1 Axes>"
      ]
     },
     "metadata": {
      "needs_background": "light"
     },
     "output_type": "display_data"
    },
    {
     "data": {
      "image/png": "[encoded data removed]",
      "text/plain": [
       "<Figure size 432x288 with 1 Axes>"
      ]
     },
     "metadata": {
      "needs_background": "light"
     },
     "output_type": "display_data"
    },
    {
     "data": {
      "image/png": "[encoded data removed]",
      "text/plain": [
       "<Figure size 432x288 with 1 Axes>"
      ]
     },
     "metadata": {
      "needs_background": "light"
     },
     "output_type": "display_data"
    }
   ],
   "source": [
    "## |> include_in_final_source <|\n",
    "## 🚀🚀 MASTER CODE 🚀🚀 PART-4 (TEST using trained CASCADE) 🚀🚀\n",
    "## \n",
    "# sc = cascade.strong_classifier              ## <- 🚫CAREFUL: used only for speed-testing to avoid re-training. DONOT include in final_source\n",
    "# cascade = Cascade(strong_classifier=sc)     ## <- 🚫CAREFUL: used only for speed-testing to avoid re-training. DONOT include in final_source\n",
    "\n",
    "cascade.test(data=data_test, mode=\"sequential\", verbose=True)\n",
    "# predictions = cascade.test(data=data_test, mode=\"committee\", verbose=True)\n",
    "\n",
    "cascade.draw(data_test, \"pos_0\", 20, 20)\n",
    "\n",
    "draw_roc_curve(data=data_test, mode=\"sequential\", classifiers=cascade.strong_classifier)\n",
    "# draw_roc_curve(data=data_test, mode=\"committee\", predictions=predictions)"
   ]
  },
  {
   "cell_type": "code",
   "execution_count": null,
   "metadata": {},
   "outputs": [],
   "source": []
  },
  {
   "cell_type": "code",
   "execution_count": null,
   "metadata": {},
   "outputs": [],
   "source": []
  },
  {
   "cell_type": "code",
   "execution_count": null,
   "metadata": {},
   "outputs": [],
   "source": []
  },
  {
   "cell_type": "markdown",
   "metadata": {
    "colab_type": "text",
    "id": "HRrnmSiQiqQa"
   },
   "source": [
    "# ```sandbox (rough work for development)```"
   ]
  },
  {
   "cell_type": "code",
   "execution_count": null,
   "metadata": {},
   "outputs": [],
   "source": []
  },
  {
   "cell_type": "code",
   "execution_count": 786,
   "metadata": {},
   "outputs": [
    {
     "name": "stdout",
     "output_type": "stream",
     "text": [
      "<|CASCADE|>|> #classifiers=>8100\n",
      "epoch[0/1] => ((5, 1, 2, 3), 'haar_dd') :: (error->0.03901611535199324) :: (alpha->1.6019914322694553)\n",
      "Time taken => 185.82044792175293 seconds!!\n"
     ]
    }
   ],
   "source": [
    "\n",
    "num_epochs = 1\n",
    "c_types = [\"haar_dd\"]\n",
    "weight_dist = \"Uniform\"\n",
    "template = (0,0,20,20)\n",
    "mode = \"sequential\"   ## otherwise can use these aswell -> [\"committe\", \"attentional\"]\n",
    "\n",
    "## Build & train a cascade\n",
    "cascade1 = Cascade()\n",
    "cascade1.train(data=data_train, num_epochs=num_epochs, c_types=c_types, weight_dist=weight_dist, template=template, verbose=True)"
   ]
  },
  {
   "cell_type": "code",
   "execution_count": 846,
   "metadata": {},
   "outputs": [
    {
     "name": "stdout",
     "output_type": "stream",
     "text": [
      "mode=[sequential]: stage[0]=> passed = [113/166] :: stage_test_error -> 0.10240963855421686 :: overall_test_error -> 0.10240963855421686\n"
     ]
    },
    {
     "data": {
      "image/png": "[encoded data removed]",
      "text/plain": [
       "<Figure size 432x288 with 1 Axes>"
      ]
     },
     "metadata": {
      "needs_background": "light"
     },
     "output_type": "display_data"
    },
    {
     "data": {
      "image/png": "[encoded data removed]",
      "text/plain": [
       "<Figure size 432x288 with 1 Axes>"
      ]
     },
     "metadata": {
      "needs_background": "light"
     },
     "output_type": "display_data"
    }
   ],
   "source": [
    "\n",
    "sc = cascade.strong_classifier              ## <- 🚫CAREFUL: used only for speed-testing to avoid re-training. DONOT include in final_source\n",
    "cascade1 = Cascade(strong_classifier=sc)     ## <- 🚫CAREFUL: used only for speed-testing to avoid re-training. DONOT include in final_source\n",
    "\n",
    "cascade1.test(data=data_test, mode=\"sequential\", verbose=True)\n",
    "# predictions = cascade.test(data=data_test, mode=\"committee\", verbose=True)\n",
    "\n",
    "cascade1.draw(data_test, \"pos_0\", 20, 20)\n",
    "\n",
    "draw_roc_curve(data=data_test, mode=\"sequential\", classifiers=cascade1.strong_classifier)\n",
    "# draw_roc_curve(data=data_test, mode=\"committee\", predictions=predictions)"
   ]
  },
  {
   "cell_type": "code",
   "execution_count": 792,
   "metadata": {},
   "outputs": [
    {
     "data": {
      "text/plain": [
       "dict_keys(['feat_type', 'val', 'error', 'alpha', 'coord_A', 'coord_B', 'coord_C', 'coord_D', 'threshold', 'polarity', 'pred_labels', 'stage_test_error'])"
      ]
     },
     "execution_count": 792,
     "metadata": {},
     "output_type": "execute_result"
    }
   ],
   "source": [
    "cascade1.strong_classifier[0][((5, 1, 2, 3), 'haar_dd')].keys()"
   ]
  },
  {
   "cell_type": "code",
   "execution_count": 551,
   "metadata": {
    "colab": {
     "base_uri": "https://localhost:8080/",
     "height": 545
    },
    "colab_type": "code",
    "id": "X23geaa75Uf-",
    "outputId": "77d0e3a1-e870-43e3-a20d-4f014ec1896e"
   },
   "outputs": [
    {
     "data": {
      "image/png": "[encoded data removed]",
      "text/plain": [
       "<Figure size 432x288 with 1 Axes>"
      ]
     },
     "metadata": {
      "needs_background": "light"
     },
     "output_type": "display_data"
    },
    {
     "data": {
      "image/png": "[encoded data removed]",
      "text/plain": [
       "<Figure size 432x288 with 1 Axes>"
      ]
     },
     "metadata": {
      "needs_background": "light"
     },
     "output_type": "display_data"
    },
    {
     "data": {
      "image/png": "[encoded data removed]",
      "text/plain": [
       "<Figure size 432x288 with 1 Axes>"
      ]
     },
     "metadata": {
      "needs_background": "light"
     },
     "output_type": "display_data"
    },
    {
     "data": {
      "image/png": "[encoded data removed]",
      "text/plain": [
       "<Figure size 432x288 with 1 Axes>"
      ]
     },
     "metadata": {
      "needs_background": "light"
     },
     "output_type": "display_data"
    }
   ],
   "source": [
    "draw_classifier(strong_classifier=cascade.strong_classifier, win_h=template[2], win_w=template[3])\n"
   ]
  },
  {
   "cell_type": "code",
   "execution_count": 159,
   "metadata": {
    "colab": {
     "base_uri": "https://localhost:8080/",
     "height": 34
    },
    "colab_type": "code",
    "id": "Gqg5NEGP5UP_",
    "outputId": "b9941906-9de3-46c7-b43d-d1a5acaa8bd5"
   },
   "outputs": [
    {
     "data": {
      "text/plain": [
       "34200"
      ]
     },
     "execution_count": 159,
     "metadata": {
      "tags": []
     },
     "output_type": "execute_result"
    }
   ],
   "source": [
    "len(classifiers)"
   ]
  },
  {
   "cell_type": "code",
   "execution_count": 154,
   "metadata": {
    "colab": {},
    "colab_type": "code",
    "id": "fDUiV4itNr4i"
   },
   "outputs": [],
   "source": [
    "from skimage import io\n",
    "img = io.imread(f\"../data/face_test/151-11.jpg\", as_gray=True)"
   ]
  },
  {
   "cell_type": "code",
   "execution_count": 155,
   "metadata": {
    "colab": {
     "base_uri": "https://localhost:8080/",
     "height": 286
    },
    "colab_type": "code",
    "id": "r0T8_LxQN-0f",
    "outputId": "00cfee2a-4b75-4f59-9e2e-98764fb8bf3f"
   },
   "outputs": [
    {
     "data": {
      "text/plain": [
       "(480, 640)"
      ]
     },
     "execution_count": 155,
     "metadata": {},
     "output_type": "execute_result"
    },
    {
     "data": {
      "image/png": "[encoded data removed]",
      "text/plain": [
       "<Figure size 432x288 with 1 Axes>"
      ]
     },
     "metadata": {
      "needs_background": "light"
     },
     "output_type": "display_data"
    }
   ],
   "source": [
    "plt.figure()\n",
    "plt.imshow(img, cmap=\"gray\")\n",
    "img.shape"
   ]
  },
  {
   "cell_type": "code",
   "execution_count": 159,
   "metadata": {},
   "outputs": [
    {
     "data": {
      "text/plain": [
       "(20, 20)"
      ]
     },
     "execution_count": 159,
     "metadata": {},
     "output_type": "execute_result"
    },
    {
     "data": {
      "image/png": "[encoded data removed]",
      "text/plain": [
       "<Figure size 432x288 with 1 Axes>"
      ]
     },
     "metadata": {
      "needs_background": "light"
     },
     "output_type": "display_data"
    }
   ],
   "source": [
    "import skimage\n",
    "res = skimage.transform.resize(img, (20,20), anti_aliasing=True)\n",
    "plt.figure()\n",
    "plt.imshow(res,cmap=\"gray\")\n",
    "res.shape"
   ]
  },
  {
   "cell_type": "code",
   "execution_count": 169,
   "metadata": {},
   "outputs": [
    {
     "data": {
      "text/plain": [
       "(20, 20)"
      ]
     },
     "execution_count": 169,
     "metadata": {},
     "output_type": "execute_result"
    },
    {
     "data": {
      "image/png": "[encoded data removed]",
      "text/plain": [
       "<Figure size 432x288 with 1 Axes>"
      ]
     },
     "metadata": {
      "needs_background": "light"
     },
     "output_type": "display_data"
    }
   ],
   "source": [
    "res = skimage.transform.resize(img, (20,20), anti_aliasing=False)\n",
    "plt.figure()\n",
    "plt.imshow(data_train[\"pos_0\"][\"img\"],cmap=\"gray\")\n",
    "res.shape"
   ]
  },
  {
   "cell_type": "code",
   "execution_count": null,
   "metadata": {},
   "outputs": [],
   "source": []
  },
  {
   "cell_type": "code",
   "execution_count": null,
   "metadata": {
    "colab": {},
    "colab_type": "code",
    "id": "e_UY4IgucIna"
   },
   "outputs": [],
   "source": []
  },
  {
   "cell_type": "code",
   "execution_count": null,
   "metadata": {
    "colab": {},
    "colab_type": "code",
    "id": "Jea_UaH7iolz"
   },
   "outputs": [],
   "source": [
    "def draw_classifierX(c_id):\n",
    "    classifier_img = np.zeros((7,7))\n",
    "    i0 = c_id[0][0]\n",
    "    j0 = c_id[0][1]\n",
    "    h = c_id[0][2]\n",
    "    w = c_id[0][3]\n",
    "    c_type = c_id[1]\n",
    "    if c_type==\"haar_lr\":\n",
    "        for i in range(i0, i0+h):\n",
    "            for j in range(j0, j0+w):\n",
    "                classifier_img[i,j] = 255\n",
    "            for j in range(j0+w, j0+2*w):\n",
    "                classifier_img[i,j] = 200\n",
    "    elif c_type==\"haar_tb\":\n",
    "        for j in range(j0, j0+w):\n",
    "            for i in range(i0, i0+h):\n",
    "                classifier_img[i,j] = 255\n",
    "            for i in range(i0+h, i0+2*h):\n",
    "                classifier_img[i,j] = 200\n",
    "\n",
    "    plt.figure()\n",
    "    plt.imshow(classifier_img)\n",
    "    plt.title(c_id)\n",
    "    \n"
   ]
  },
  {
   "cell_type": "code",
   "execution_count": null,
   "metadata": {
    "colab": {
     "base_uri": "https://localhost:8080/",
     "height": 545
    },
    "colab_type": "code",
    "id": "nXh2NrZTMRKT",
    "outputId": "e8924937-3c45-4ed9-fb4f-47710725b454"
   },
   "outputs": [
    {
     "data": {
      "image/png": "[encoded data removed]",
      "text/plain": [
       "<Figure size 432x288 with 1 Axes>"
      ]
     },
     "metadata": {
      "tags": []
     },
     "output_type": "display_data"
    },
    {
     "data": {
      "image/png": "[encoded data removed]",
      "text/plain": [
       "<Figure size 432x288 with 1 Axes>"
      ]
     },
     "metadata": {
      "tags": []
     },
     "output_type": "display_data"
    }
   ],
   "source": [
    "draw_classifierX(((2,3,3,1), \"haar_lr\"))\n",
    "draw_classifierX(((0,1,2,2), \"haar_tb\"))"
   ]
  },
  {
   "cell_type": "code",
   "execution_count": null,
   "metadata": {
    "colab": {
     "base_uri": "https://localhost:8080/",
     "height": 34
    },
    "colab_type": "code",
    "id": "StUlWBLEa9Kj",
    "outputId": "597f9cef-7f71-45bb-ed11-e506e1f208c3"
   },
   "outputs": [
    {
     "data": {
      "text/plain": [
       "[((2, 2, 1, 3), 'haar_tb'), ((1, 3, 2, 2), 'haar_tb')]"
      ]
     },
     "execution_count": 42,
     "metadata": {
      "tags": []
     },
     "output_type": "execute_result"
    }
   ],
   "source": [
    "strong_classifier"
   ]
  },
  {
   "cell_type": "code",
   "execution_count": null,
   "metadata": {
    "colab": {},
    "colab_type": "code",
    "id": "3f66IgzTiohv"
   },
   "outputs": [],
   "source": [
    "classifier_img = np.zeros((5,5))\n",
    "classifier_img[0,0] = 300\n",
    "classifier_img[1,1] = 200"
   ]
  },
  {
   "cell_type": "code",
   "execution_count": null,
   "metadata": {
    "colab": {
     "base_uri": "https://localhost:8080/",
     "height": 282
    },
    "colab_type": "code",
    "id": "JzwsGr6Ximrz",
    "outputId": "23f1d491-90b4-475e-d4e8-a950be0a231b"
   },
   "outputs": [
    {
     "data": {
      "text/plain": [
       "<matplotlib.image.AxesImage at 0x7f387289b128>"
      ]
     },
     "execution_count": 41,
     "metadata": {
      "tags": []
     },
     "output_type": "execute_result"
    },
    {
     "data": {
      "image/png": "[encoded data removed]",
      "text/plain": [
       "<Figure size 432x288 with 1 Axes>"
      ]
     },
     "metadata": {
      "tags": []
     },
     "output_type": "display_data"
    }
   ],
   "source": [
    "plt.figure()\n",
    "plt.imshow(classifier_img)"
   ]
  },
  {
   "cell_type": "code",
   "execution_count": null,
   "metadata": {
    "colab": {
     "base_uri": "https://localhost:8080/",
     "height": 534
    },
    "colab_type": "code",
    "id": "bv188PwVKDQP",
    "outputId": "a97bdd9b-e996-492c-c919-a9b3a27ff928"
   },
   "outputs": [
    {
     "data": {
      "text/plain": [
       "(40, 40)"
      ]
     },
     "execution_count": 7,
     "metadata": {
      "tags": []
     },
     "output_type": "execute_result"
    },
    {
     "data": {
      "image/png": "[encoded data removed]",
      "text/plain": [
       "<Figure size 432x288 with 1 Axes>"
      ]
     },
     "metadata": {
      "tags": []
     },
     "output_type": "display_data"
    },
    {
     "data": {
      "image/png": "[encoded data removed]",
      "text/plain": [
       "<Figure size 432x288 with 1 Axes>"
      ]
     },
     "metadata": {
      "tags": []
     },
     "output_type": "display_data"
    }
   ],
   "source": [
    "## |> include_in_final_source <|\n",
    "##\n",
    "## Plotting the face and background training data\n",
    "plt.figure()\n",
    "plt.imshow(np.reshape(face_data[:,0], (40,40,3))[:,:,0])\n",
    "np.reshape(face_data[:,0], (40,40,3))[:,:,0].shape\n",
    "\n",
    "plt.figure()\n",
    "plt.imshow(np.reshape(bg_data[:,0], (40,40,3))[:,:,0])\n",
    "np.reshape(bg_data[:,0], (40,40,3))[:,:,0].shape"
   ]
  },
  {
   "cell_type": "code",
   "execution_count": null,
   "metadata": {
    "colab": {},
    "colab_type": "code",
    "id": "JzrhKuIzb5-x"
   },
   "outputs": [],
   "source": [
    "## |> include_in_final_source <|\n",
    "##\n",
    "img = np.reshape(face_data[:,0], (40,40,3))[:,:,0]\n",
    "bg  = np.reshape(bg_data[:,0], (40,40,3))[:,:,0]"
   ]
  },
  {
   "cell_type": "code",
   "execution_count": null,
   "metadata": {
    "colab": {
     "base_uri": "https://localhost:8080/",
     "height": 136
    },
    "colab_type": "code",
    "id": "tTRqaRcikk4m",
    "outputId": "18eb273b-1b26-406c-d6bd-e455720f5041"
   },
   "outputs": [
    {
     "data": {
      "text/plain": [
       "array([[171, 174, 173, ..., 167, 167, 164],\n",
       "       [175, 174, 176, ..., 165, 164, 166],\n",
       "       [173, 174, 170, ..., 165, 164, 166],\n",
       "       ...,\n",
       "       [150, 153, 154, ..., 121, 128, 128],\n",
       "       [149, 157, 148, ..., 122, 123, 121],\n",
       "       [153, 152, 146, ..., 116, 121, 124]], dtype=uint8)"
      ]
     },
     "execution_count": 9,
     "metadata": {
      "tags": []
     },
     "output_type": "execute_result"
    }
   ],
   "source": [
    "img"
   ]
  }
 ],
 "metadata": {
  "accelerator": "GPU",
  "colab": {
   "collapsed_sections": [],
   "machine_shape": "hm",
   "name": "ece763_project_2.ipynb",
   "provenance": []
  },
  "kernelspec": {
   "display_name": "Python 3",
   "language": "python",
   "name": "python3"
  },
  "language_info": {
   "codemirror_mode": {
    "name": "ipython",
    "version": 3
   },
   "file_extension": ".py",
   "mimetype": "text/x-python",
   "name": "python",
   "nbconvert_exporter": "python",
   "pygments_lexer": "ipython3",
   "version": "3.7.4"
  }
 },
 "nbformat": 4,
 "nbformat_minor": 4
}
